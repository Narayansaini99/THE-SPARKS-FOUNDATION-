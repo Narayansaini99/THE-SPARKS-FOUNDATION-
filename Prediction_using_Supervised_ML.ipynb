{
  "nbformat": 4,
  "nbformat_minor": 0,
  "metadata": {
    "colab": {
      "name": "Prediction using Supervised ML.ipynb",
      "provenance": [],
      "collapsed_sections": [],
      "authorship_tag": "ABX9TyPSBG8EyWj1ljT/vQnC2yGQ",
      "include_colab_link": true
    },
    "kernelspec": {
      "display_name": "Python 3",
      "name": "python3"
    }
  },
  "cells": [
    {
      "cell_type": "markdown",
      "metadata": {
        "id": "view-in-github",
        "colab_type": "text"
      },
      "source": [
        "<a href=\"https://colab.research.google.com/github/Narayansaini99/THE-SPARKS-FOUNDATION-/blob/main/Prediction_using_Supervised_ML.ipynb\" target=\"_parent\"><img src=\"https://colab.research.google.com/assets/colab-badge.svg\" alt=\"Open In Colab\"/></a>"
      ]
    },
    {
      "cell_type": "markdown",
      "metadata": {
        "id": "r9SGj8aoysB8"
      },
      "source": [
        "\r\n",
        "#**Name - Narayan Saini**\r\n",
        "# Prediction using Supervised ML\r\n",
        "**Task - 1: Predict the precentage of marks of an student based on the number of study hour.**\r\n",
        "\r\n",
        "\r\n",
        "\r\n",
        "\r\n",
        "\r\n",
        "\r\n",
        "\r\n",
        "\r\n"
      ]
    },
    {
      "cell_type": "code",
      "metadata": {
        "id": "Qp8JKHRN1qgy"
      },
      "source": [
        "import pandas as pd\r\n",
        "import matplotlib.pyplot as plt\r\n",
        "%matplotlib inline"
      ],
      "execution_count": null,
      "outputs": []
    },
    {
      "cell_type": "code",
      "metadata": {
        "id": "5YW2xJ_73PjA"
      },
      "source": [
        "df=pd.read_csv('http://bit.ly/w-data')\r\n",
        "df.head()"
      ],
      "execution_count": null,
      "outputs": []
    },
    {
      "cell_type": "code",
      "metadata": {
        "id": "2QNBpk0R3qcP"
      },
      "source": [
        "df.shape"
      ],
      "execution_count": null,
      "outputs": []
    },
    {
      "cell_type": "code",
      "metadata": {
        "id": "DZZqipO_3uwp"
      },
      "source": [
        "df.describe()"
      ],
      "execution_count": null,
      "outputs": []
    },
    {
      "cell_type": "markdown",
      "metadata": {
        "id": "_uEeVy5E3y87"
      },
      "source": [
        "#**Visualising Data to get a better view of the data**"
      ]
    },
    {
      "cell_type": "code",
      "metadata": {
        "id": "QXIullVY34tb"
      },
      "source": [
        "plt.scatter(df.Scores,df.Hours)\r\n",
        "plt.xlabel(\"Score achieved\")\r\n",
        "plt.ylabel(\"No. of hours studied\")\r\n",
        "plt.title(\"relation betweeen score and hours devoted\")\r\n",
        "plt.plot()"
      ],
      "execution_count": null,
      "outputs": []
    },
    {
      "cell_type": "markdown",
      "metadata": {
        "id": "s8F3QSWV3-53"
      },
      "source": [
        "# **Seperating the dependent and independent Vaiables**"
      ]
    },
    {
      "cell_type": "code",
      "metadata": {
        "id": "9lmR1L724Due"
      },
      "source": [
        "x=df.iloc[:,:-1].values\r\n",
        "y=df.iloc[:,1].values"
      ],
      "execution_count": null,
      "outputs": []
    },
    {
      "cell_type": "code",
      "metadata": {
        "id": "eMJCMaVx4Nqk"
      },
      "source": [
        "y"
      ],
      "execution_count": null,
      "outputs": []
    },
    {
      "cell_type": "markdown",
      "metadata": {
        "id": "zsyjZUMN4RPY"
      },
      "source": [
        "# **Splitting the Data for Testing And Training**"
      ]
    },
    {
      "cell_type": "code",
      "metadata": {
        "id": "GkH3Pu9e4WY1"
      },
      "source": [
        "from sklearn.model_selection import train_test_split"
      ],
      "execution_count": null,
      "outputs": []
    },
    {
      "cell_type": "code",
      "metadata": {
        "id": "qH56T7Kb4f2r"
      },
      "source": [
        "x_train,x_test,y_train,y_test = train_test_split(x,y,test_size=0.2,random_state=0)"
      ],
      "execution_count": null,
      "outputs": []
    },
    {
      "cell_type": "code",
      "metadata": {
        "id": "NQRcd3ez4lFi"
      },
      "source": [
        "len(x_test)"
      ],
      "execution_count": null,
      "outputs": []
    },
    {
      "cell_type": "code",
      "metadata": {
        "id": "aQMmsLPi4q-V"
      },
      "source": [
        "len(x_train)"
      ],
      "execution_count": null,
      "outputs": []
    },
    {
      "cell_type": "markdown",
      "metadata": {
        "id": "0aw_F3WC4uRY"
      },
      "source": [
        "#**Training the model**"
      ]
    },
    {
      "cell_type": "code",
      "metadata": {
        "id": "2tprQItI4xtk"
      },
      "source": [
        "from sklearn.linear_model import LinearRegression\r\n",
        "model = LinearRegression()"
      ],
      "execution_count": null,
      "outputs": []
    },
    {
      "cell_type": "code",
      "metadata": {
        "id": "CHD1c5as42Yn"
      },
      "source": [
        "model.fit(x_train,y_train)"
      ],
      "execution_count": null,
      "outputs": []
    },
    {
      "cell_type": "code",
      "metadata": {
        "id": "avFFSuhj48AD"
      },
      "source": [
        "model.score(x_test,y_test)"
      ],
      "execution_count": null,
      "outputs": []
    },
    {
      "cell_type": "markdown",
      "metadata": {
        "id": "THRzSBfxuL16"
      },
      "source": [
        "# **Ploting graphs for visualization**"
      ]
    },
    {
      "cell_type": "code",
      "metadata": {
        "id": "vwWnIxOzsTO0"
      },
      "source": [
        "# ploting the model\r\n",
        "\r\n",
        "line = model.coef_*x + model.intercept_\r\n",
        "plt.scatter(x_train,y_train,c='r')\r\n",
        "plt.xlabel(\"Score achieved\")\r\n",
        "plt.ylabel(\"No. of hours studied\")\r\n",
        "plt.title(\"relation betweeen score and hours devoted\")\r\n",
        "plt.plot(x,line,c='b')"
      ],
      "execution_count": null,
      "outputs": []
    },
    {
      "cell_type": "code",
      "metadata": {
        "id": "IPuHvhjNsWQV"
      },
      "source": [
        "# ploting ther test data\r\n",
        "\r\n",
        "line = model.coef_*x + model.intercept_\r\n",
        "plt.scatter(x_test,y_test,c='r')\r\n",
        "plt.xlabel(\"Score achieved\")\r\n",
        "plt.ylabel(\"No. of hours studied\")\r\n",
        "plt.title(\"relation betweeen score and hours devoted\")\r\n",
        "plt.plot(x,line,c='b')"
      ],
      "execution_count": null,
      "outputs": []
    },
    {
      "cell_type": "code",
      "metadata": {
        "id": "tuo_KbJxseXs"
      },
      "source": [
        "#predicting the values of test data\r\n",
        "\r\n",
        "y_pred = model.predict(x_test)\r\n",
        "print(y_pred)"
      ],
      "execution_count": null,
      "outputs": []
    },
    {
      "cell_type": "markdown",
      "metadata": {
        "id": "PE1bH7jluWxC"
      },
      "source": [
        "# **checking our prediction**"
      ]
    },
    {
      "cell_type": "code",
      "metadata": {
        "id": "LSJzKo6gshME"
      },
      "source": [
        "check = pd.DataFrame({\"Actual_value\" : y_test, \"Predicted_value\" : y_pred})\r\n",
        "check"
      ],
      "execution_count": null,
      "outputs": []
    },
    {
      "cell_type": "markdown",
      "metadata": {
        "id": "EETfvVKSuhoU"
      },
      "source": [
        "# **Question : What will be predicted score if a student studies for 9.25 hrs/ day?**"
      ]
    },
    {
      "cell_type": "code",
      "metadata": {
        "id": "MCqzPge9skDz"
      },
      "source": [
        "# Answer\r\n",
        "\r\n",
        "\r\n",
        "answer = model.predict([[9.5]])\r\n",
        "print(\"The studen who studies for 9.5 hours a day would probably get {} marks\".format(answer))"
      ],
      "execution_count": null,
      "outputs": []
    },
    {
      "cell_type": "code",
      "metadata": {
        "id": "MRg3fU01soTu"
      },
      "source": [
        "from sklearn import metrics\r\n",
        "\r\n",
        "print('Mean Absolute Error:' , metrics.mean_absolute_error(y_test,y_pred))"
      ],
      "execution_count": null,
      "outputs": []
    }
  ]
}